{
 "cells": [
  {
   "attachments": {},
   "cell_type": "markdown",
   "metadata": {},
   "source": [
    "## Lendo Arquivo\n",
    "\n",
    "&emsp;&emsp;Vamos começar percorrendo alguns conceitos básicos das biblitecas apresentadas (pandas, numpy, matplotlib).\n",
    "\n",
    "&emsp;&emsp;Primeiro, vamos importar essas bibliotecas para nossa aplicação."
   ]
  },
  {
   "cell_type": "code",
   "execution_count": null,
   "metadata": {
    "vscode": {
     "languageId": "plaintext"
    }
   },
   "outputs": [],
   "source": [
    "import pandas as pd\n",
    "import numpy as np \n",
    "from matplotlib import pyplot as plt "
   ]
  },
  {
   "attachments": {},
   "cell_type": "markdown",
   "metadata": {},
   "source": [
    "&emsp;&emsp;Com as bibliotecas já importadas, podemos começar a mexer com as funções armazenadas nelas. Como por exemplo, a read_csv() do pandas, que vamos utilizar para abrir o arquivo carros.csv. E o head(), que vamos utilizar para dar uma olhada na estrutura dos dados que estamos lendo. "
   ]
  },
  {
   "cell_type": "code",
   "execution_count": null,
   "metadata": {
    "vscode": {
     "languageId": "plaintext"
    }
   },
   "outputs": [],
   "source": [
    "data = pd.read_csv('/content/carros.csv')\n",
    "print(type(data))\n",
    "print(data.head(5))"
   ]
  },
  {
   "attachments": {},
   "cell_type": "markdown",
   "metadata": {},
   "source": [
    "## O que é DataFrame ?\n",
    "\n",
    "&emsp;&emsp;Os DataFrames são objetos bidimensionais, de tamanho variável. O seu formato é de uma tabela, onde os dados são organizados em linhas e colunas, é possível ver no primeiro print da célula acima que a variável 'data' é um DataFrame. Além disso, enquanto podemos pensar a Series como uma única coluna, o DataFrame seria uma união de várias Series sob um mesmo index. A estrutura do DataFrame é apresentada quando executamos o segundo print da célula anterior."
   ]
  },
  {
   "cell_type": "code",
   "execution_count": null,
   "metadata": {
    "vscode": {
     "languageId": "plaintext"
    }
   },
   "outputs": [],
   "source": [
    "data_np = data.values\n",
    "\n",
    "print(type(data_np))\n",
    "print(data_np)"
   ]
  },
  {
   "attachments": {},
   "cell_type": "markdown",
   "metadata": {},
   "source": [
    "## O que é ndArray ?\n",
    "\n",
    "&emsp;&emsp;Um array é uma estrutura multidimensional que nos permite armazenar dados na memória do nosso computador, de modo que cada item localizado nessa estrutura pode ser encontrado por meio de um esquema de indexação. O NumPy denomina essa estrutura como ndarray, como forma de abreviação a array N-dimensional.\n",
    "\n",
    "## Manipulando dados\n",
    "\n",
    "&emsp;&emsp;Ao utilizar a bilbioteca numpy, ela permite algumas manipulações de dados, o que é muito importante para uma análise mais detalhada, mas mais importante que manipular os dados e entender o que eles significam. Algumas das manipulações possíveis serão exemplificadas a seguir.\n",
    "\n",
    "&emsp;&emsp;Para mais funções para manipular os dados de seu array, acesse [aqui](https://numpy.org/doc/stable/reference/routines.array-manipulation.html)."
   ]
  },
  {
   "cell_type": "code",
   "execution_count": null,
   "metadata": {
    "vscode": {
     "languageId": "plaintext"
    }
   },
   "outputs": [],
   "source": [
    "ano = data['YEAR'].values\n",
    "marca = data['Make'].values\n",
    "\n",
    "print(ano)\n",
    "print(marca)\n",
    "\n",
    "# 1 - Definir a quantidade de dados\n",
    "print(len(ano))\n",
    "\n",
    "# 2 - Definir o modelo mais novo\n",
    "print(max(ano))\n",
    "\n",
    "# 3 - Definir o modelo mais antigo\n",
    "print(min(ano))\n",
    "\n",
    "# 4 - Definir a média de idade dos modelos\n",
    "print(2023 - round(ano.mean()))\n",
    "\n",
    "# 5 - Definir quantos carros de determinada marca estam em estoque\n",
    "tesla = np.sum(marca == 'TESLA')\n",
    "print(\"Tesla aparece \" + str(tesla) + \" vezes, o que corresponde a \" + str((tesla/len(marca))*100) + \"% dos carros\")\n",
    "bmw = np.sum(marca == 'BMW')\n",
    "print(\"BMW aparece \" + str(bmw) + \" vezes, o que corresponde a \" + str((bmw/len(marca))*100) + \"% dos carros\")\n"
   ]
  },
  {
   "attachments": {},
   "cell_type": "markdown",
   "metadata": {},
   "source": [
    "## Visualizando dados\n",
    "\n",
    "&emsp;&emsp;Com a biblioteca matplotlib é possível plotar gráficos que nos permitem analisar as informações de forma mais visual. Como por exemplo na célula seguinte, onde plotamos um gráfico de dispersão comparando a potência da bateria dos carros e o consumo combinado do veículo.\n",
    "\n",
    "&emsp;&emsp;A seguir também esta presente um gráfico de barras que compara o consumo de energia na cidade por modelo de carro elétrico.\n",
    "\n",
    "&emsp;&emsp;Logo abaixo temos um gráfico de barras agrupadas, comparando o consumo de energia de diferentes modelos de carros, tanto na cidade quanto na estrada.\n",
    "\n",
    "&emsp;&emsp;Por último temos um gráfico de pizza que demonstra a porcentagem de determinado tamanho de carro no estoque.\n",
    "\n",
    "&emsp;&emsp;Nos exemplos dados foi utilizada apenas a estrutura mínima para que as informações ficassem compreensivas, porém a biblioteca matplotlib ainda permite muitas manipulações nos gráficos plotados, além de permitir a criação de outros tipos de gráficos."
   ]
  },
  {
   "cell_type": "code",
   "execution_count": null,
   "metadata": {
    "vscode": {
     "languageId": "plaintext"
    }
   },
   "outputs": [],
   "source": [
    "# Gráfico de Dispersão\n",
    "\n",
    "potencia = data['(kW)']\n",
    "consumo_combinado = data['COMB (kWh/100 km)']\n",
    "\n",
    "# Cria o gráfico de dispersão\n",
    "plt.scatter(potencia, consumo_combinado)\n",
    "\n",
    "# Personalizar o gráfico\n",
    "plt.title('Relação entre potência e Consumo combinado')\n",
    "plt.xlabel('Potência (kW)')\n",
    "plt.ylabel('Consumo combinado (kWh/100 km)')\n",
    "\n",
    "# Exibir o gráfico\n",
    "plt.show()"
   ]
  },
  {
   "attachments": {},
   "cell_type": "markdown",
   "metadata": {},
   "source": [
    "![Gráfico de Disperção](../img/grafico_dispercao.png \"Gráfico de Disperção\")"
   ]
  },
  {
   "cell_type": "code",
   "execution_count": null,
   "metadata": {
    "vscode": {
     "languageId": "plaintext"
    }
   },
   "outputs": [],
   "source": [
    "# Gráfico de Barras\n",
    "\n",
    "models = ['MITSUBISHI i-MiEV', 'NISSAN LEAF', 'FORD FOCUS ELECTRIC']\n",
    "city_consumption = [16.9, 19.3, 19.0]\n",
    "\n",
    "# Plotagem do gráfico de barras\n",
    "plt.bar(models, city_consumption)\n",
    "plt.xlabel('Modelos')\n",
    "plt.ylabel('Consumo de energia na cidade (kWh/100 km)')\n",
    "plt.title('Consumo de energia na cidade por modelo de carro elétrico')\n",
    "plt.xticks(rotation=45)\n",
    "plt.show()"
   ]
  },
  {
   "attachments": {},
   "cell_type": "markdown",
   "metadata": {},
   "source": [
    "![Gráfico de Barras](../img/grafico_barra.png \"Gráfico de Barras\")"
   ]
  },
  {
   "cell_type": "code",
   "execution_count": null,
   "metadata": {
    "vscode": {
     "languageId": "plaintext"
    }
   },
   "outputs": [],
   "source": [
    "# Gráfico de Barras Agrupadas\n",
    "\n",
    "# Dados\n",
    "models = ['MITSUBISHI i-MiEV', 'NISSAN LEAF', 'FORD FOCUS ELECTRIC']\n",
    "city_consumption = [16.9, 19.3, 19.0]\n",
    "highway_consumption = [21.4, 23.0, 21.1]\n",
    "\n",
    "# Configuração do gráfico de barras agrupadas\n",
    "bar_width = 0.35\n",
    "index = np.arange(len(models))\n",
    "\n",
    "# Plotagem do gráfico de barras agrupadas\n",
    "plt.bar(index, city_consumption, bar_width, label='Cidade')\n",
    "plt.bar(index + bar_width, highway_consumption, bar_width, label='Estrada')\n",
    "plt.xlabel('Modelos')\n",
    "plt.ylabel('Consumo de energia (kWh/100 km)')\n",
    "plt.title('Consumo de energia na cidade e na estrada por modelo de carro elétrico')\n",
    "plt.xticks(index + bar_width/2, models, rotation=45)\n",
    "plt.legend()\n",
    "plt.show()"
   ]
  },
  {
   "attachments": {},
   "cell_type": "markdown",
   "metadata": {},
   "source": [
    "![Gráfico de Barras Agrupadas](../img/grafico_barra_agrupados.png \"Gráfico de Barras Agrupadas\")"
   ]
  },
  {
   "cell_type": "code",
   "execution_count": null,
   "metadata": {
    "vscode": {
     "languageId": "plaintext"
    }
   },
   "outputs": [],
   "source": [
    "# Gráfico de Pizza\n",
    "\n",
    "# Dados\n",
    "size = data['Size'].values\n",
    "types = ['SUBCOMPACT', 'MID-SIZE', 'COMPACT']\n",
    "\n",
    "subcompact = np.sum(size == 'SUBCOMPACT')\n",
    "midsize = np.sum(size == 'MID-SIZE')\n",
    "compact = np.sum(size == 'COMPACT')\n",
    "\n",
    "porcentagem = [((subcompact/len(size))*100), ((midsize/len(size))*100), ((compact/len(size))*100)]\n",
    "\n",
    "# Plotagem do gráfico de pizza\n",
    "plt.pie(porcentagem, labels=types, autopct='%1.1f%%')\n",
    "plt.title('Distribuição percentual dos tipos de carros elétricos')\n",
    "plt.axis('equal')\n",
    "plt.show()"
   ]
  },
  {
   "attachments": {},
   "cell_type": "markdown",
   "metadata": {},
   "source": [
    "![Gráfico de Pizza](../img/grafico_pizza.png \"Gráfico de Pizza\")"
   ]
  },
  {
   "attachments": {},
   "cell_type": "markdown",
   "metadata": {},
   "source": [
    "## Final \n",
    "\n",
    "Chegando até aqui você adquiriu conhecimento suficiente para resolver o exercício proposto, basta clicar [aqui](https://github.com/StrangeUnit28/Tutoria_de_Python-BRISA/blob/main/exercicios/Exerc%C3%ADcio1.md) para acessá-lo."
   ]
  }
 ],
 "metadata": {
  "language_info": {
   "name": "python"
  },
  "orig_nbformat": 4
 },
 "nbformat": 4,
 "nbformat_minor": 2
}
