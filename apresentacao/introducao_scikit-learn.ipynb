{
 "cells": [
  {
   "attachments": {},
   "cell_type": "markdown",
   "metadata": {},
   "source": [
    "# Introdução a biblioteca Scikit-Learn\n",
    "\n",
    "### Descrição\n",
    "\n",
    "&emsp;&emsp;Scikit-learn é uma biblioteca gratuita, de código aberto, para Machine Learning (Aprendizado de Máquina) em Python. Ela também fornece uma seleção de recursos eficientes para modelagem estatística, análise e mineração de dados, além de suporte ao aprendizado supervisionado e não supervisionado. \n",
    "\n",
    "&emsp;&emsp;Considerada uma das soluções mais versáteis e populares do mercado, sua construção é baseada na interação com outras bibliotecas Python, numéricas e científicas, como  NumPy e SciPy e Matplotlib.\n",
    "\n",
    "&emsp;&emsp;Por contar com ferramentas para ajuste, seleção e avaliação de modelos, assim como pré-processamento de dados, o Scikit-learn é considerado a biblioteca mais útil e robusta para aprendizado de máquina (ML) em Python.\n",
    "\n",
    "### Instalação\n",
    "\n",
    "```\n",
    "pip install -U scikit-learn\n",
    "```\n",
    "\n",
    "### Descrição do código\n",
    "\n",
    "&emsp;&emsp;O código a seguir implementa uma técnica de regressão para prever a classificação de eficiência energética dos veículos elétricos."
   ]
  },
  {
   "cell_type": "code",
   "execution_count": null,
   "metadata": {
    "vscode": {
     "languageId": "plaintext"
    }
   },
   "outputs": [],
   "source": [
    "import pandas as pd\n",
    "from sklearn.model_selection import train_test_split\n",
    "from sklearn.linear_model import LinearRegression\n",
    "from sklearn.metrics import mean_squared_error, r2_score\n",
    "\n",
    "# Carregar os dados\n",
    "data = pd.read_csv(\"carros.csv\")\n",
    "\n",
    "# Remover colunas desnecessárias\n",
    "data = data.drop([\"YEAR\", \"Make\", \"Model\", \"Size\", \"(kW)\", \"Unnamed: 5\", \"TYPE\", \"CITY (Le/100 km)\", \"HWY (Le/100 km)\",\n",
    "                  \"(g/km)\", \"RATING\", \"(km)\", \"TIME (h)\"], axis=1)\n",
    "\n",
    "# Dividir os dados em recursos (X) e variável alvo (y)\n",
    "X = data.drop(\"COMB (Le/100 km)\", axis=1)\n",
    "y = data[\"COMB (Le/100 km)\"]\n",
    "\n",
    "# Dividir os dados em treinamento e teste\n",
    "X_train, X_test, y_train, y_test = train_test_split(X, y, test_size=0.2, random_state=42)\n",
    "\n",
    "# Criar o modelo de regressão linear\n",
    "regression_model = LinearRegression()\n",
    "\n",
    "# Treinar o modelo\n",
    "regression_model.fit(X_train, y_train)\n",
    "\n",
    "# Fazer previsões nos dados de teste\n",
    "y_pred = regression_model.predict(X_test)\n",
    "\n",
    "# Avaliar o modelo\n",
    "mse = mean_squared_error(y_test, y_pred)\n",
    "r2 = r2_score(y_test, y_pred)\n",
    "\n",
    "print(\"Erro quadrático médio (MSE): %.5f\" % mse)\n",
    "print(\"Coeficiente de determinação (R^2): %.5f\" % r2)\n"
   ]
  },
  {
   "attachments": {},
   "cell_type": "markdown",
   "metadata": {},
   "source": [
    "### Passo a passo\n",
    "\n",
    "&emsp;&emsp;Aqui segue uma explicação passo a passo do que esta sendo realizado no código, além de algumas informações sobre termos mais técnicos.\n",
    "\n",
    "1. Importação das bibliotecas necessárias: O código começa importando as bibliotecas pandas para manipulação de dados, train_test_split para dividir os dados em conjuntos de treinamento e teste, LinearRegression para criar um modelo de regressão linear e mean_squared_error e r2_score para avaliar a precisão do modelo.\n",
    "\n",
    "2. Carregamento dos dados: Os dados são carregados a partir de um arquivo CSV usando a função read_csv() do pandas e armazenados na variável 'data'.\n",
    "\n",
    "3. Pré-processamento dos dados: Algumas colunas irrelevantes são removidas do conjunto de dados usando a função drop(). Isso inclui as colunas que contêm informações como YEAR, Make, Model, Size, (kW), Unnamed: 5, TYPE, CITY (Le/100 km), HWY (Le/100 km), (g/km), RATING, (km) e TIME (h) que não são relevantes para a previsão da eficiência energética.\n",
    "\n",
    "4. Divisão dos dados: Os dados são divididos em recursos (X) e variável alvo (y) usando a função drop(). Os recursos são todas as colunas, exceto \"COMB (Le/100 km)\" que é a variável que queremos prever.\n",
    "\n",
    "5. Divisão dos dados em conjuntos de treinamento e teste: Os dados são divididos aleatoriamente em conjuntos de treinamento e teste usando a função train_test_split(). Neste exemplo, 80% dos dados são usados para treinamento e 20% são usados para teste.\n",
    "\n",
    "6. Criação e treinamento do modelo: Um modelo de regressão linear é criado usando a classe LinearRegression(). Em seguida, o modelo é treinado com os dados de treinamento usando a função fit().\n",
    "\n",
    "7. Fazer previsões: Usando o modelo treinado, são feitas previsões nos dados de teste usando a função predict(). As previsões são armazenadas na variável 'y_pred'.\n",
    "\n",
    "8. Avaliação do modelo: O desempenho do modelo é avaliado usando duas métricas: o Erro Quadrático Médio (MSE) e o Coeficiente de Determinação (R^2).\n",
    "\n",
    "    - MSE (Mean Squared Error): O MSE é uma medida que calcula a média dos erros ao quadrado entre as previsões e os valores reais. Quanto menor o valor do MSE, melhor o desempenho do modelo. Ele é calculado usando a função mean_squared_error(). No código, o valor do MSE é armazenado na variável 'mse'.\n",
    "\n",
    "    - R^2 (Coeficiente de Determinação): O R^2 é uma medida estatística que indica a proporção da variância dos valores dependentes que é explicada pelo modelo. Ele varia de 0 a 1, onde 0 indica que o modelo não consegue explicar a variabilidade dos dados e 1 indica que o modelo consegue explicar totalmente a variabilidade dos dados. É calculado usando a função r2"
   ]
  },
  {
   "attachments": {},
   "cell_type": "markdown",
   "metadata": {},
   "source": [
    "### Exercício proposto\n",
    "\n",
    "&emsp;&emsp;Utilizando o arquivo 'carros.csv', implemente qualquer outro algoritmo presente na biblioteca Scikit-Learn. Veja se seu modelo esta com uma acurácia aceitável e se possível adicione alguma análise gráfica. Para ajudar no exercício acesse a [documentação](https://scikit-learn.org/stable/user_guide.html) da biblioteca. Caso fique com dúvidas use e abuse do espaço de [Discussões](https://github.com/StrangeUnit28/Tutoria_de_Python-BRISA/discussions)."
   ]
  }
 ],
 "metadata": {
  "language_info": {
   "name": "python"
  },
  "orig_nbformat": 4
 },
 "nbformat": 4,
 "nbformat_minor": 2
}
